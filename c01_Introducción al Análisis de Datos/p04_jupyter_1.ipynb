{
 "cells": [
  {
   "cell_type": "markdown",
   "metadata": {},
   "source": [
    "# Mi primer cuaderno\n",
    "## Este va ser mi primer cuaderno de Jupyter\n",
    "### Aqui vamos a hacer cosa muy interesante\n",
    "\n",
    "Entre lo que haremos se encuentra:\n",
    "- Vamos a hacer analisis de sentimientos\n",
    "- Vamos a imprimir *mensajes*\n",
    "- Y muchas cosas mas **mas**\n",
    "\n",
    "![imagen](https://upload.wikimedia.org/wikipedia/commons/thumb/3/3a/Linear_regression.svg/1200px-Linear_regression.svg.png)"
   ]
  },
  {
   "cell_type": "code",
   "execution_count": 3,
   "metadata": {},
   "outputs": [
    {
     "name": "stdout",
     "output_type": "stream",
     "text": [
      "Este es el bloque 1\n"
     ]
    }
   ],
   "source": [
    "print(\"Este es el bloque 1\")\n",
    "x = 10"
   ]
  },
  {
   "cell_type": "code",
   "execution_count": 4,
   "metadata": {},
   "outputs": [
    {
     "name": "stdout",
     "output_type": "stream",
     "text": [
      "Este es el bloque 2\n",
      "Variable x: 10\n"
     ]
    }
   ],
   "source": [
    "print(\"Este es el bloque 2\")\n",
    "print(\"Variable x:\", x)"
   ]
  }
 ],
 "metadata": {
  "kernelspec": {
   "display_name": "Python 3",
   "language": "python",
   "name": "python3"
  },
  "language_info": {
   "codemirror_mode": {
    "name": "ipython",
    "version": 3
   },
   "file_extension": ".py",
   "mimetype": "text/x-python",
   "name": "python",
   "nbconvert_exporter": "python",
   "pygments_lexer": "ipython3",
   "version": "3.12.3"
  }
 },
 "nbformat": 4,
 "nbformat_minor": 2
}
